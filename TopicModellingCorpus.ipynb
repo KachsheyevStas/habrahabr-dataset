{
 "cells": [
  {
   "cell_type": "markdown",
   "metadata": {},
   "source": [
    "# Topic Modelling Corpus for Habrahabr"
   ]
  },
  {
   "cell_type": "code",
   "execution_count": 10,
   "metadata": {
    "collapsed": true
   },
   "outputs": [],
   "source": [
    "import os\n",
    "import json"
   ]
  },
  {
   "cell_type": "code",
   "execution_count": 75,
   "metadata": {
    "collapsed": true
   },
   "outputs": [],
   "source": [
    "DATASET_PATH = './dataset_full/habr_posts/'\n",
    "post_ids = sorted(int(filename) for filename in os.listdir(DATASET_PATH) if not filename.startswith('.'))\n",
    "def load_post(post_id):\n",
    "    with open(os.path.join(DATASET_PATH, str(post_id))) as fin:\n",
    "        post = json.load(fin)\n",
    "    return post"
   ]
  },
  {
   "cell_type": "markdown",
   "metadata": {},
   "source": [
    "## Модальности\n",
    "\n",
    " 1. `words`\n",
    " 2. `author`\n",
    " 3. `users`\n",
    " 4. `tags`\n",
    " 5. `hubs` (hub/apps_design)"
   ]
  },
  {
   "cell_type": "code",
   "execution_count": 100,
   "metadata": {
    "collapsed": false
   },
   "outputs": [],
   "source": [
    "import nltk\n",
    "import urlparse\n",
    "import collections\n",
    "import BeautifulSoup"
   ]
  },
  {
   "cell_type": "code",
   "execution_count": null,
   "metadata": {
    "collapsed": false
   },
   "outputs": [],
   "source": [
    "import nltk\n",
    "import html2text\n",
    "html2text.config.INLINE_LINKS = False\n",
    "html2text.config.SKIP_INTERNAL_LINKS = True\n",
    "html2text.config.IGNORE_ANCHORS = True\n",
    "html2text.config.IGNORE_EMPHASIS = True\n",
    "html2text.config.IGNORE_IMAGES = True\n",
    "html2text.config.BYPASS_TABLES = False"
   ]
  },
  {
   "cell_type": "code",
   "execution_count": 33,
   "metadata": {
    "collapsed": false
   },
   "outputs": [],
   "source": [
    "import html2text\n",
    "content_text = html2text.html2text(post['content_html'])\n",
    "tokens = nltk.tokenize.wordpunct_tokenize(content_text)"
   ]
  },
  {
   "cell_type": "code",
   "execution_count": 25,
   "metadata": {
    "collapsed": true
   },
   "outputs": [],
   "source": [
    "import pymorphy2\n",
    "morph = pymorphy2.MorphAnalyzer()"
   ]
  },
  {
   "cell_type": "code",
   "execution_count": 104,
   "metadata": {
    "collapsed": false
   },
   "outputs": [
    {
     "name": "stdout",
     "output_type": "stream",
     "text": [
      "CPU times: user 0 ns, sys: 0 ns, total: 0 ns\n",
      "Wall time: 89.9 µs\n"
     ]
    }
   ],
   "source": [
    "%%time\n",
    "\n",
    "def html_to_plain(html):\n",
    "    text = html2text.html2text(post['content_html'])\n",
    "\n",
    "def post_to_corpus_line(post, morph):\n",
    "    post_id = post['_id']\n",
    "    author = post['author']\n",
    "    tags = post['tags']\n",
    "\n",
    "    # 1. words\n",
    "    words = collections.Counter()\n",
    "    \n",
    "    soup = BeautifulSoup.BeautifulSoup(post['content_html'])\n",
    "    text_parts = soup.findAll(text=True)\n",
    "    content_text = ''.join(text_parts)\n",
    "    space_chars = u'«»“”’*…/_.\\\\'\n",
    "    for c in space_chars:\n",
    "        content_text = content_text.replace(c, ' ')\n",
    "    tokens = nltk.tokenize.wordpunct_tokenize(content_text)\n",
    "    tokens = nltk.word_tokenize(content_text)\n",
    "    for token in tokens:\n",
    "        if len(token) > 2:\n",
    "            token = token.lower().replace(u'ё', u'е')\n",
    "            word = morph.parse(token)[0].normal_form\n",
    "            if len(word) > 0:\n",
    "                words[word] += 1\n",
    "    \n",
    "    # 2. users\n",
    "    users = collections.Counter()\n",
    "    \n",
    "    def pass_comments(comments, users):\n",
    "        for comment in comments:\n",
    "            if not comment['banned'] and comment.get('username') is not None:\n",
    "                username = comment['username']\n",
    "                users[username] += 1\n",
    "            pass_comments(comment['replies'], users)\n",
    "    pass_comments(post['comments'], users)\n",
    "\n",
    "    # 3. hubs\n",
    "    \n",
    "    def parse_hub_id(hub_pair):\n",
    "        url_parts = filter(lambda s: len(s) > 0, urlparse.urlsplit(hub_pair[1]).path.split('/'))\n",
    "        if len(url_parts) >= 2:\n",
    "            hub_id = '_'.join(url_parts[-2:])\n",
    "            return hub_id\n",
    "        \n",
    "    hubs = []\n",
    "    for hub_pair in post['hubs']:\n",
    "        hub_id = parse_hub_id(hub_pair)\n",
    "        if hub_id:\n",
    "            hubs.append(hub_id)\n",
    "    \n",
    "    # construct bag-of-words\n",
    "    \n",
    "    def construct_bow(words):\n",
    "        return [\n",
    "            (\n",
    "                word.replace(' ', '_').replace(':', '_').replace('|', '_').replace('\\t', '_') + \n",
    "                ('' if cnt == 1 else ':%g' % cnt)\n",
    "            )\n",
    "            for word, cnt in words.iteritems()\n",
    "        ]\n",
    "    \n",
    "    parts = (\n",
    "        ['\\'%d' % post_id] + \n",
    "        ['|words'] + construct_bow(words) +\n",
    "        ['|author'] + construct_bow({author: 1} if author is not None else {}) +\n",
    "        ['|users'] + construct_bow(users) + \n",
    "        ['|tags'] + construct_bow({tag: 1 for tag in tags}) +\n",
    "        ['|hubs'] + construct_bow({hub_id: 1 for hub_id in hubs})\n",
    "    )\n",
    "    return ' '.join(parts)\n",
    "    "
   ]
  },
  {
   "cell_type": "code",
   "execution_count": 105,
   "metadata": {
    "collapsed": false
   },
   "outputs": [
    {
     "name": "stdout",
     "output_type": "stream",
     "text": [
      "'251015 |words требоваться комментарий обработка:4 чуть полнота:2 немного:2 охрана:2 список нормальный житель:2 постановка выдержка где-нибудь получать:2 раздать vpn распространить записать пол страна:4 конец:2 нереальный далёкий:4 распознать:3 хоть последний под:5 нежелательно пара искать тестер копейка контроль люба стратегический защита:2 рушить российский сырьё единица:3 человек:11 система:4 точно разработчик более научиться образцов фельдъегерский общий категория объём результат:3 экономить пример:2 задавать случай croc существенно:2 дойти:3 нерв сложный знание:2 коллега массив итоговый ввод много:3 учитывать качество проверить:3 несколько:2 мыслить обводить парсить агроном рукописный:2 стоить:2 распознавание-проверка процент:2 двухтысячный там:4 нагрузка мало механизм:2 живой подтвердить профессионал озвучить следующий:3 случайный роскошь что:15 начать:4 встречаться слой попросить чаща:2 тут:2 достаточно готовый:2 отчёт:5 успешно следить:2 миллион собранный боком подавать условие заказчик:4 лёгкий только:4 многие предотвращать многий оригинал всероссийский:3 наколоться бывать момент уже:4 тест всего ушлый сколько председатель нельзя:2 кооператив логика показывать it-пользователь упрощённый скан:2 стоять незнание практика:4 судить более-менее нетипичный конкретный:2 бланк:6 мощный портфель итог москва большой:4 случаться промсканер глаз набирать вызывать:2 различаться важный:4 внук:2 территориальный ключевой определить:2 челябинский это:17 перемалывать интересно добить крайне:2 data сырой установление помочь статистически обходить место:3 отстраиваться перелопачивать подавлять масса зато:3 предположить один:13 ссср дикий петля решать метка победа иностранный насчёт superstar оператор:4 секретный разжевать маленький:3 цифровой село плохой 400 обучать чем понятный 2010 менее распознавать:2 почти:2 персонал:2 конкретика район при:2 почта:2 ценный сканер:5 рутинг отказник процедура:4 взять:2 предназначить количество:3 особенность:3 править:2 огромный:3 весь:14 обучение:2 объект добивать что-то молодой число:3 прямо:2 шаг:2 повторить выгрузить:2 грабли сельскохозяйственный:2 обученный нии:3 росстат представитель пользоваться сельхозперепиться поток потом:4 регион:3 почему структура пентестер юзабилить короткий:2 olap:3 разработка:2 численность удалить два:6 нежно конопля сложно участвовать:2 защитить:2 служба интересный я происходить получить:4 ошибка:3 пиратский бумага:5 соответствующий выбор раз:9 совсем далее:3 забыть опросить восстанавливаться нарезка найтись для:8 думать:2 распознаваться он статистика:3 разбить естественно:3 возможность:3 доля собираться софт вроде смочь:3 стандартный десять добраться корова множество:3 необходимость документ:6 понимать:5 поэтому:4 сложность обход приятно размер орган застать жаргон мор автоматически генерация ситуация попадать:2 потоковый перепись:17 сокращать задача:4 необходимый корма цод:3 объесть восстановление:2 около страшный организовать соответствие без:2 лежать натыкаться учиться такой:11 масштаб алгоритм:3 рабочий три:2 австралийский писать:3 проверка:2 ответ:3 мероприятие персональный путь таблица резкий составляться операция требование вредничать непривычка сразу:2 проект:2 быть:17 забирать большинство объяснять:2 бояться аспект 5-7 называться печатный первичка отправка:2 причина 700-страничный машина:2 страница кстати:2 перелистать научно-исследовательский поиск земля быстро дать:30 равно рука:3 запланировать где:8 себя поддержка вот:3 сопоставление считать прийти невозможность держать целостность вера райцентр подходящий машиночитаемый:4 бывший достаточный участок:4 колхозник-пенсионер конечно куча диск:2 направление позволять:2 субъект видеть:2 семья:2 бумажный:3 должный:5 серия итак физически:2 счёт прошлое информация ходить:2 репрезентативный аналитика вычитать нужно:3 часы нетривиальный 2020 единичный конфиденциальность уходить:2 живо вообще такой-то задать робот эксперимент разъяснять участник-оператор тем она они:9 обрабатываться интересовать tieriii свойство ранний нет:3 принести нея:2 верифицировать собирать художественный дата-центр баг:2 линия так:4 название население:4 экран:2 тот:6 формально-логический отличие почтовый стадия наш:3 маршрутный профиль глубоко 500:2 цифра:2 обследовать лист:3 заполнить:2 опыт нога ничто отработать утечка гипотеза:2 получение просто промышленность умножать 2016 мощность сын физический учётный секундочка почерковый теперь оптимизировать необычный минута:2 разбираться:2 идти время:4 фото специальный:5 также выявить или:2 похожий:4 верблюд:2 программист двигать тема:6 деревня сойти связь значит восстановить опорный медицина стол big свой:4 ведущий пакет сравнение знать:2 выращивать подготовить плохо вести чертовски полиция сам:4 ценить тестирование здесь:2 избавиться профессиональный:2 хранение:2 мы:10 когда:3 мочь:6 придумать icherepov переписчик:3 бумажка комплекс загнать соответствовать студент:2 сделать увязать глубокий:2 заинтересовать мировой сельхозперепись база:10 проверяться пять очень:8 вариант компонент год:6 специально загрузить:2 разный:2 совершенно:2 обсуждение работать:7 скорость сховал решение:5 область:2 аналитик:2 пиковый цода срок обработать реальный:2 40-минутный потому:3 посёлок отлично нарезать среднее кирпич хотеть понять десятка счастие есть:7 вопрос:3 тестировщик удовольствие молочный шанс гектар дорогой плюс хватать максимально:2 пак сканирование полный бабка каждый:4 остальной простой:2 бюджет вид иной затем:4 образ полмиллиона участник килограмм чтобы:6 самый:4 примерно:3 округа например:7 день:2 автоматизация реально получаться помещение опрашивать пожалеть деление стараться:2 куда:2 отдавать распознавание:3 сторона преувеличивать анкета текст:3 загружаться класс почерк:3 внутренний матрица:3 дед:2 опираться уровень:3 справляться часто друг:2 выходить даже:5 данные всхп содержимый рост можно если:5 предостаточно ум часть мышь после:3 ряд интерфейс половозрастной где-то приходить:2 правильно:2 фермер 150:2 разрыв жизнь превращать ещё:8 пошло вместе:2 который:12 доставить кто-то:2 переписной забиваться логично тысяча:3 заполнение сначала другой:3 поросёнок реализация специфика:2 собрать:4 делать:3 планшет:2 милиция воля компьютер:2 работа:6 уменьшить использоваться:2 консистентность фиксироваться видео sql коррекция как:8 мир просить этот:6 2004 |author ICherepov |users vics001 saboteur_kiev:6 oYASo:4 serafims nile1 mikhailian:2 vikarti Cobolorum freeznah Ogoun OlegMax ssneg:2 Londoner rocket paranoik:2 Temych:3 kirillzorin AxisPod amarao ICherepov:8 Wyrd:4 reji:2 eldarmusin:3 nomadmoon:2 thunderspb Olegtrombone maratische TheSteelRat vanxant state13 bachin:11 ploop:10 bougakov:7 Arristotel topa khim:4 toxicdream:2 neco stan_jeremy:2 ak4rp0v Urvin:4 Artem_Govorov dmitryredkin pvasili:2 AlexNomad batyrmastyr gag_fenix skygad |tags перепись_населения данные ВСХП ВПН автоматизация |hubs hub_db_admins hub_it-infrastructure hub_image_processing company_croc hub_programming\n"
     ]
    }
   ],
   "source": [
    "print post_to_corpus_line(load_post(251015), morph)"
   ]
  },
  {
   "cell_type": "code",
   "execution_count": null,
   "metadata": {
    "collapsed": false
   },
   "outputs": [],
   "source": [
    "with open('habrahabr_corpus.txt', 'w') as fout:\n",
    "    for post_id in post_ids:\n",
    "        line = post_to_corpus_line(load_post(post_id), morph)\n",
    "        fout.write(line.encode('utf8') + '\\n')"
   ]
  }
 ],
 "metadata": {
  "kernelspec": {
   "display_name": "Python 2",
   "language": "python",
   "name": "python2"
  },
  "language_info": {
   "codemirror_mode": {
    "name": "ipython",
    "version": 2
   },
   "file_extension": ".py",
   "mimetype": "text/x-python",
   "name": "python",
   "nbconvert_exporter": "python",
   "pygments_lexer": "ipython2",
   "version": "2.7.3"
  }
 },
 "nbformat": 4,
 "nbformat_minor": 0
}
